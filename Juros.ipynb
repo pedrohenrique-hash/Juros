{
 "cells": [
  {
   "cell_type": "code",
   "execution_count": null,
   "metadata": {},
   "outputs": [],
   "source": [
    "def Interest_rate(Value_applied, Interest_earned):\n",
    "    result = (Interest_earned/Value_applied)\n",
    "    return (result)\n"
   ]
  },
  {
   "cell_type": "code",
   "execution_count": null,
   "metadata": {},
   "outputs": [],
   "source": [
    "def unit_rate(Interest_rate):\n",
    "    result = (Interest_rate/100)\n",
    "    return (result)\n"
   ]
  },
  {
   "cell_type": "code",
   "execution_count": null,
   "metadata": {},
   "outputs": [],
   "source": [
    "def simple_interest(todays_equity_value_todays_equity_todays_equity_value_today, effective_interest_rate_per_compounding_period,number_of_compounding_periods):\n",
    "    interest_value =  todays_equity_value_todays_equity_todays_equity_value_today * effective_interest_rate_per_compounding_period * number_of_compounding_periods\n",
    "    return (interest_value)\n"
   ]
  },
  {
   "cell_type": "code",
   "execution_count": null,
   "metadata": {},
   "outputs": [],
   "source": [
    "def amount(todays_equity_value_todays_equity_todays_equity_value_today, effective_interest_rate_per_compounding_period,number_of_compounding_periods):\n",
    "    \n"
   ]
  }
 ],
 "metadata": {
  "kernelspec": {
   "display_name": "Python 3.9.7 ('base')",
   "language": "python",
   "name": "python3"
  },
  "language_info": {
   "name": "python",
   "version": "3.9.7"
  },
  "orig_nbformat": 4,
  "vscode": {
   "interpreter": {
    "hash": "4668b2b94aebe22ab6a379c52b27e87f14fb5565ac42686a2db709d03229b54e"
   }
  }
 },
 "nbformat": 4,
 "nbformat_minor": 2
}
