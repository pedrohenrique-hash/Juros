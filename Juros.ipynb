{
 "cells": [
  {
   "cell_type": "code",
   "execution_count": null,
   "metadata": {},
   "outputs": [],
   "source": [
    "def Interest_rate(Value_applied, Interest_earned):\n",
    "    result = (Interest_earned/Value_applied)\n",
    "    return (result)\n"
   ]
  },
  {
   "cell_type": "code",
   "execution_count": null,
   "metadata": {},
   "outputs": [],
   "source": [
    "def unit_rate(Interest_rate):\n",
    "    result = (Interest_rate/100)\n",
    "    return (result)\n"
   ]
  },
  {
   "cell_type": "code",
   "execution_count": null,
   "metadata": {},
   "outputs": [],
   "source": [
    "def simple_interest(todays_equity_value_todays_equity_todays_equity_value_today, effective_interest_rate_per_compounding_period,number_of_compounding_periods):\n",
    "    interest_value =  todays_equity_value_todays_equity_todays_equity_value_today * effective_interest_rate_per_compounding_period * number_of_compounding_periods\n",
    "    return (interest_value)\n"
   ]
  },
  {
   "cell_type": "code",
   "execution_count": null,
   "metadata": {},
   "outputs": [],
   "source": [
    "def amount(todays_equity_value_todays_equity_todays_equity_value_today, effective_interest_rate_per_compounding_period,number_of_compounding_periods):\n",
    "    result=todays_equity_value_todays_equity_todays_equity_value_today*(1+effective_interest_rate_per_compounding_period * number_of_compounding_periods)\n",
    "    return(result)\n"
   ]
  },
  {
   "cell_type": "code",
   "execution_count": null,
   "metadata": {},
   "outputs": [],
   "source": [
    "def current_value(amount,effective_interest_rate_per_compounding_period,number_of_compounding_periods):\n",
    "    result = amount/(1+effective_interest_rate_per_compounding_period * number_of_compounding_periods)\n",
    "    return(result)"
   ]
  },
  {
   "cell_type": "code",
   "execution_count": null,
   "metadata": {},
   "outputs": [],
   "source": [
    "def commercial_interest(capital, day, simple_interest_rate):\n",
    "    result= capital * simple_interest_rate * (day/360)\n",
    "    return (result)\n",
    "    "
   ]
  },
  {
   "cell_type": "code",
   "execution_count": null,
   "metadata": {},
   "outputs": [],
   "source": [
    "def exact_interest(capital, day, simple_interest_rate):\n",
    "    result= capital * simple_interest_rate * (day/365)\n",
    "    return (result)\n",
    "    "
   ]
  },
  {
   "cell_type": "code",
   "execution_count": null,
   "metadata": {},
   "outputs": [],
   "source": [
    "def interest_rate_for_the_application_period(amount,capital ):\n",
    "    result = ((amount/capital) - 1)\n",
    "    return (result)"
   ]
  },
  {
   "cell_type": "code",
   "execution_count": null,
   "metadata": {},
   "outputs": [],
   "source": [
    "def monthly_application_interest_rate(interest_rate_for_the_application_period, number_of_moth):\n",
    "    result = (interest_rate_for_the_application_period/number_of_moth)\n",
    "    return(result)\n"
   ]
  },
  {
   "cell_type": "code",
   "execution_count": null,
   "metadata": {},
   "outputs": [],
   "source": [
    "def number_of_compounding_periods(capital, rate_per_year, amount):\n",
    "    first_part = amount / capital\n",
    "    second_part = (first_part - 1)/rate_per_year\n",
    "    number_of_compounding_periods= second_part * 12\n",
    "    result = number_of_compounding_periods\n",
    "    return (result)\n",
    "\n"
   ]
  }
 ],
 "metadata": {
  "kernelspec": {
   "display_name": "Python 3.9.7 ('base')",
   "language": "python",
   "name": "python3"
  },
  "language_info": {
   "name": "python",
   "version": "3.9.7"
  },
  "orig_nbformat": 4,
  "vscode": {
   "interpreter": {
    "hash": "4668b2b94aebe22ab6a379c52b27e87f14fb5565ac42686a2db709d03229b54e"
   }
  }
 },
 "nbformat": 4,
 "nbformat_minor": 2
}
